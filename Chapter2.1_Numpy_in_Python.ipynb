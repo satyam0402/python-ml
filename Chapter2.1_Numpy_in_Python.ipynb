{
  "nbformat": 4,
  "nbformat_minor": 0,
  "metadata": {
    "colab": {
      "provenance": [],
      "authorship_tag": "ABX9TyMfIaSGUlJ3xXDpmWG1awJG",
      "include_colab_link": true
    },
    "kernelspec": {
      "name": "python3",
      "display_name": "Python 3"
    },
    "language_info": {
      "name": "python"
    }
  },
  "cells": [
    {
      "cell_type": "markdown",
      "metadata": {
        "id": "view-in-github",
        "colab_type": "text"
      },
      "source": [
        "<a href=\"https://colab.research.google.com/github/satyam0402/python-ml/blob/main/Chapter2_Numpy_in_Python.ipynb\" target=\"_parent\"><img src=\"https://colab.research.google.com/assets/colab-badge.svg\" alt=\"Open In Colab\"/></a>"
      ]
    },
    {
      "cell_type": "markdown",
      "source": [
        "NumPy - Numerical Python\n",
        "\n",
        "Advantages of NumPy\n",
        "1. Allows several mathematical operations\n",
        "2. Faster Operations"
      ],
      "metadata": {
        "id": "ubRp_yRs0-6g"
      }
    },
    {
      "cell_type": "code",
      "source": [
        "# Importing NumPy\n",
        "import numpy as np"
      ],
      "metadata": {
        "id": "eFyL2bZm1Qhl"
      },
      "execution_count": 2,
      "outputs": []
    },
    {
      "cell_type": "markdown",
      "source": [
        "Example 1: List vs NumPy - TIME TAKEN COMPARISON"
      ],
      "metadata": {
        "id": "20d4wcSg1eXn"
      }
    },
    {
      "cell_type": "code",
      "source": [
        "#Using process_time function from time library\n",
        "from time import process_time"
      ],
      "metadata": {
        "id": "SOnNLXk61bXC"
      },
      "execution_count": 2,
      "outputs": []
    },
    {
      "cell_type": "markdown",
      "source": [
        "Time Taken by List"
      ],
      "metadata": {
        "id": "GYAP6DbZ2UAs"
      }
    },
    {
      "cell_type": "code",
      "source": [
        "#Creating a list using a for loop with 10000 items\n",
        "my_list = (i for i in range(1000000))\n",
        "# initializing start time with process time\n",
        "start_time = process_time()\n",
        "# Adding some values to each item from the list\n",
        "my_list = (i+5 for i in my_list)\n",
        "end_time = process_time() # Call the process_time() function to get the current time\n",
        "time_taken = end_time - start_time\n",
        "print(\"Time taken by list = \", time_taken)"
      ],
      "metadata": {
        "colab": {
          "base_uri": "https://localhost:8080/"
        },
        "id": "NDnObEcW2Wq6",
        "outputId": "417142fa-9ded-4d80-accb-851da202d1ab"
      },
      "execution_count": 13,
      "outputs": [
        {
          "output_type": "stream",
          "name": "stdout",
          "text": [
            "Time taken by list =  0.00012888600000060535\n"
          ]
        }
      ]
    },
    {
      "cell_type": "markdown",
      "source": [
        "Time Taken by NumPy Array"
      ],
      "metadata": {
        "id": "9_CGsAvh5diJ"
      }
    },
    {
      "cell_type": "code",
      "source": [
        "my_array = np.array([i for i in range(1000000)])\n",
        "start_time = process_time()\n",
        "my_array = (i+5 for i in my_array)\n",
        "end_time = process_time()\n",
        "time_taken = end_time - start_time\n",
        "print(\"Time taken by array = \", time_taken)"
      ],
      "metadata": {
        "colab": {
          "base_uri": "https://localhost:8080/"
        },
        "id": "rSPl-FRw3EHK",
        "outputId": "b832b806-0abb-4aa2-903f-4a7a35d31621"
      },
      "execution_count": 14,
      "outputs": [
        {
          "output_type": "stream",
          "name": "stdout",
          "text": [
            "Time taken by array =  0.00012377200000024402\n"
          ]
        }
      ]
    },
    {
      "cell_type": "markdown",
      "source": [
        "Difference between List and np.array"
      ],
      "metadata": {
        "id": "ylJlVKvy7XM7"
      }
    },
    {
      "cell_type": "code",
      "source": [
        "#List\n",
        "my_list = [1,2,3,4,5]\n",
        "print(my_list)\n",
        "type(my_list)\n",
        "\n",
        "#Array\n",
        "my_array = np.array([1,2,3,4,5])\n",
        "print(my_array)\n",
        "type(my_array)\n",
        "\n",
        "# List elements are separated by \",\" whereas array elements are not."
      ],
      "metadata": {
        "colab": {
          "base_uri": "https://localhost:8080/"
        },
        "id": "j3CFFoHR54sn",
        "outputId": "30c8c9f5-f91a-4a98-d3aa-d5475e05ce65"
      },
      "execution_count": 15,
      "outputs": [
        {
          "output_type": "stream",
          "name": "stdout",
          "text": [
            "[1, 2, 3, 4, 5]\n",
            "[1 2 3 4 5]\n"
          ]
        },
        {
          "output_type": "execute_result",
          "data": {
            "text/plain": [
              "numpy.ndarray"
            ]
          },
          "metadata": {},
          "execution_count": 15
        }
      ]
    },
    {
      "cell_type": "markdown",
      "source": [
        "Different Dimensions of arrays"
      ],
      "metadata": {
        "id": "mHHdRe2W8TBc"
      }
    },
    {
      "cell_type": "code",
      "source": [
        "# 1D\n",
        "my_array = np.array([1,2,3,4,5])\n",
        "print(my_array)\n",
        "print(my_array.shape) #(rows,column)\n",
        "\n",
        "#2D\n",
        "my_array = np.array([(1,2,3,4,5),(6,7,8,9,10)])\n",
        "print(my_array)\n",
        "print(my_array.shape) #(rows,column)\n",
        "\n",
        "#Float in arrays\n",
        "my_array = np.array([(1.1,2,3.5,4,5),(6,7.3,8,9,10)],dtype=float)\n",
        "print(my_array)\n",
        "print(my_array.shape) #(rows,column)"
      ],
      "metadata": {
        "colab": {
          "base_uri": "https://localhost:8080/"
        },
        "id": "xaUocnLq8CMm",
        "outputId": "7e8bb122-04f9-429c-dd5a-5efd2ad3e181"
      },
      "execution_count": 18,
      "outputs": [
        {
          "output_type": "stream",
          "name": "stdout",
          "text": [
            "[1 2 3 4 5]\n",
            "(5,)\n",
            "[[ 1  2  3  4  5]\n",
            " [ 6  7  8  9 10]]\n",
            "(2, 5)\n",
            "[[ 1.1  2.   3.5  4.   5. ]\n",
            " [ 6.   7.3  8.   9.  10. ]]\n",
            "(2, 5)\n"
          ]
        }
      ]
    },
    {
      "cell_type": "markdown",
      "source": [
        "Initial Placeholder for numpy array where each element in the array is initialized to zero"
      ],
      "metadata": {
        "id": "4ashF6zr9_w9"
      }
    },
    {
      "cell_type": "code",
      "source": [
        "#Zeros\n",
        "my_initial_array_Zeros = np.zeros((5,5)) #np.zeros function is used to create array with all zeros\n",
        "print(my_initial_array_Zeros)\n",
        "#Ones\n",
        "my_initial_array_Ones = np.ones((5,5)) #np.ones function is used to create array with all ones\n",
        "print(my_initial_array_Ones)\n",
        "\n",
        "#Arrays of particular value\n",
        "my_valued_array = np.full((5,5),5) #np.full function is used to create array with all particular value\n",
        "print(my_valued_array)\n",
        "\n",
        "# Identity matrix\n",
        "my_identity_matrix = np.eye(5) #np.eye function is used to create identity matrix\n",
        "print(my_identity_matrix)\n",
        "\n",
        "#Array with random values\n",
        "my_random_array = np.random.random((5,5)) #np.random.random function is used to create array with random values\n",
        "print(my_random_array)\n",
        "\n",
        "#Array with random values within specific range\n",
        "my_random_array = np.random.randint(10,100,(5,5)) #np.random.randint function is used to create array with random values within specific range\n",
        "print(my_random_array)\n",
        "\n",
        "#Array with evenly space  ---> Number of values required\n",
        "my_evenly_spaced_array = np.linspace(10,20,6) #np.linespace function is used to create array with evenly space values\n",
        "print(my_evenly_spaced_array)\n",
        "\n",
        "#Array with evenly space steps ---> Steps\n",
        "my_step_array = np.arange(10,100,5) #np.arange function is used to create array with evenly space steps\n",
        "print(my_step_array)\n",
        "\n",
        "#List to Numpy Array\n",
        "my_list = [1,2,3,1,2,3]\n",
        "my_array = np.array(my_list)\n",
        "print(my_array)\n",
        "\n",
        "\n",
        "\n"
      ],
      "metadata": {
        "colab": {
          "base_uri": "https://localhost:8080/"
        },
        "id": "TJQcxgmb9CNw",
        "outputId": "635daf33-c029-41cf-bdef-7560596935b9"
      },
      "execution_count": 3,
      "outputs": [
        {
          "output_type": "stream",
          "name": "stdout",
          "text": [
            "[[0. 0. 0. 0. 0.]\n",
            " [0. 0. 0. 0. 0.]\n",
            " [0. 0. 0. 0. 0.]\n",
            " [0. 0. 0. 0. 0.]\n",
            " [0. 0. 0. 0. 0.]]\n",
            "[[1. 1. 1. 1. 1.]\n",
            " [1. 1. 1. 1. 1.]\n",
            " [1. 1. 1. 1. 1.]\n",
            " [1. 1. 1. 1. 1.]\n",
            " [1. 1. 1. 1. 1.]]\n",
            "[[5 5 5 5 5]\n",
            " [5 5 5 5 5]\n",
            " [5 5 5 5 5]\n",
            " [5 5 5 5 5]\n",
            " [5 5 5 5 5]]\n",
            "[[1. 0. 0. 0. 0.]\n",
            " [0. 1. 0. 0. 0.]\n",
            " [0. 0. 1. 0. 0.]\n",
            " [0. 0. 0. 1. 0.]\n",
            " [0. 0. 0. 0. 1.]]\n",
            "[[0.54330943 0.26748486 0.06994801 0.67916094 0.81872137]\n",
            " [0.91038816 0.00954161 0.73596436 0.00896791 0.35104823]\n",
            " [0.00101353 0.54273094 0.84994797 0.95986588 0.71332291]\n",
            " [0.39883164 0.81642853 0.16259424 0.70808341 0.00153545]\n",
            " [0.91180211 0.04261923 0.71517962 0.97885533 0.48626861]]\n",
            "[[31 70 91 66 34]\n",
            " [95 21 49 60 27]\n",
            " [90 78 26 33 91]\n",
            " [45 49 66 41 23]\n",
            " [95 37 39 20 99]]\n",
            "[10. 12. 14. 16. 18. 20.]\n",
            "[10 15 20 25 30 35 40 45 50 55 60 65 70 75 80 85 90 95]\n",
            "[1 2 3 1 2 3]\n"
          ]
        }
      ]
    },
    {
      "cell_type": "markdown",
      "source": [
        "NumPy Array Analysis"
      ],
      "metadata": {
        "id": "aOKFPDASgArl"
      }
    },
    {
      "cell_type": "code",
      "source": [
        "#Numpy array\n",
        "new_array = np.random.randint(10,90,(3,5))\n",
        "print(new_array)"
      ],
      "metadata": {
        "colab": {
          "base_uri": "https://localhost:8080/"
        },
        "id": "vJfi1PHzgIBu",
        "outputId": "66404712-61ad-4b1f-a6fa-f15013632a10"
      },
      "execution_count": 4,
      "outputs": [
        {
          "output_type": "stream",
          "name": "stdout",
          "text": [
            "[[42 27 24 73 65]\n",
            " [43 13 42 89 67]\n",
            " [71 51 66 14 82]]\n"
          ]
        }
      ]
    },
    {
      "cell_type": "markdown",
      "source": [],
      "metadata": {
        "id": "IbHY81Tb-bUv"
      }
    },
    {
      "cell_type": "code",
      "source": [
        "#Get Array Dimension\n",
        "print(new_array.shape)\n",
        "#Get Number of Dimension\n",
        "print(new_array.ndim)\n",
        "#Get array size\n",
        "print(new_array.size)\n",
        "#Get data type\n",
        "print(new_array.dtype)"
      ],
      "metadata": {
        "colab": {
          "base_uri": "https://localhost:8080/"
        },
        "id": "rYRyRQmk-Y-A",
        "outputId": "392bf47b-cde1-4978-8b7f-cc4dae838522"
      },
      "execution_count": 9,
      "outputs": [
        {
          "output_type": "stream",
          "name": "stdout",
          "text": [
            "(3, 5)\n",
            "2\n",
            "15\n",
            "int64\n"
          ]
        }
      ]
    },
    {
      "cell_type": "markdown",
      "source": [
        "Math Operation on Arrays"
      ],
      "metadata": {
        "id": "hFo8-eiLkGPO"
      }
    },
    {
      "cell_type": "code",
      "source": [
        "list1 = [ 1,2,3,4,5]\n",
        "list2 = [6,7,8,9,10]\n",
        "print(list1 +list2) #Concatenation or joining list1 and list2"
      ],
      "metadata": {
        "colab": {
          "base_uri": "https://localhost:8080/"
        },
        "id": "2EroMQWLgoUH",
        "outputId": "d24e2f59-9b2f-4cef-fd61-80a2def12cd1"
      },
      "execution_count": 10,
      "outputs": [
        {
          "output_type": "stream",
          "name": "stdout",
          "text": [
            "[1, 2, 3, 4, 5, 6, 7, 8, 9, 10]\n"
          ]
        }
      ]
    },
    {
      "cell_type": "code",
      "source": [
        "my_array1 = np.random.randint(0,20,(5,5))\n",
        "my_array2 = np.random.randint(20,40,(5,5))\n",
        "print(my_array1)\n",
        "print(my_array2)\n",
        "print(my_array1 + my_array2)\n",
        "print(my_array1 - my_array2)\n",
        "print(my_array1 * my_array2)\n",
        "print(my_array1 / my_array2)\n",
        "\n",
        "#Using np.operator\n",
        "print(np.add(my_array1,my_array2))\n",
        "print(np.subtract(my_array1,my_array2))\n",
        "print(np.multiply(my_array1,my_array2))"
      ],
      "metadata": {
        "colab": {
          "base_uri": "https://localhost:8080/"
        },
        "id": "Q6enZjapkcKv",
        "outputId": "944addf5-940c-49b8-a907-9e717514acb5"
      },
      "execution_count": 14,
      "outputs": [
        {
          "output_type": "stream",
          "name": "stdout",
          "text": [
            "[[19 16 10  6  5]\n",
            " [11  2 13 18  4]\n",
            " [ 9 10 18  2 12]\n",
            " [ 2  7  6 11 10]\n",
            " [17 13 11  6 18]]\n",
            "[[38 35 37 24 24]\n",
            " [27 32 34 36 29]\n",
            " [28 30 25 33 29]\n",
            " [34 35 26 36 28]\n",
            " [26 26 33 37 26]]\n",
            "[[57 51 47 30 29]\n",
            " [38 34 47 54 33]\n",
            " [37 40 43 35 41]\n",
            " [36 42 32 47 38]\n",
            " [43 39 44 43 44]]\n",
            "[[-19 -19 -27 -18 -19]\n",
            " [-16 -30 -21 -18 -25]\n",
            " [-19 -20  -7 -31 -17]\n",
            " [-32 -28 -20 -25 -18]\n",
            " [ -9 -13 -22 -31  -8]]\n",
            "[[722 560 370 144 120]\n",
            " [297  64 442 648 116]\n",
            " [252 300 450  66 348]\n",
            " [ 68 245 156 396 280]\n",
            " [442 338 363 222 468]]\n",
            "[[0.5        0.45714286 0.27027027 0.25       0.20833333]\n",
            " [0.40740741 0.0625     0.38235294 0.5        0.13793103]\n",
            " [0.32142857 0.33333333 0.72       0.06060606 0.4137931 ]\n",
            " [0.05882353 0.2        0.23076923 0.30555556 0.35714286]\n",
            " [0.65384615 0.5        0.33333333 0.16216216 0.69230769]]\n",
            "[[57 51 47 30 29]\n",
            " [38 34 47 54 33]\n",
            " [37 40 43 35 41]\n",
            " [36 42 32 47 38]\n",
            " [43 39 44 43 44]]\n",
            "[[-19 -19 -27 -18 -19]\n",
            " [-16 -30 -21 -18 -25]\n",
            " [-19 -20  -7 -31 -17]\n",
            " [-32 -28 -20 -25 -18]\n",
            " [ -9 -13 -22 -31  -8]]\n",
            "[[722 560 370 144 120]\n",
            " [297  64 442 648 116]\n",
            " [252 300 450  66 348]\n",
            " [ 68 245 156 396 280]\n",
            " [442 338 363 222 468]]\n"
          ]
        }
      ]
    },
    {
      "cell_type": "markdown",
      "source": [
        "Transpose of an Array"
      ],
      "metadata": {
        "id": "bepNHUQim4f9"
      }
    },
    {
      "cell_type": "code",
      "source": [
        "my_array = np.random.randint(0,10,(3,2))\n",
        "print(my_array)\n",
        "print(my_array.shape)\n",
        "my_tansposed_array = np.transpose(my_array)\n",
        "print(my_tansposed_array)\n",
        "print(my_tansposed_array.shape)"
      ],
      "metadata": {
        "colab": {
          "base_uri": "https://localhost:8080/"
        },
        "id": "7Udxi74RlbRw",
        "outputId": "0d250548-6368-40fc-be09-842ad96646ef"
      },
      "execution_count": 19,
      "outputs": [
        {
          "output_type": "stream",
          "name": "stdout",
          "text": [
            "[[9 0]\n",
            " [5 4]\n",
            " [9 2]]\n",
            "(3, 2)\n",
            "[[9 5 9]\n",
            " [0 4 2]]\n",
            "(2, 3)\n"
          ]
        }
      ]
    },
    {
      "cell_type": "markdown",
      "source": [
        "Reshaping Array"
      ],
      "metadata": {
        "id": "X8Z1m0ffomMp"
      }
    },
    {
      "cell_type": "code",
      "source": [
        "my_array = np.random.randint(0, 10, (3,2))\n",
        "print(my_array)\n",
        "print(my_array.shape)\n",
        "#Reshaping my_array\n",
        "my_reshaped_array = my_array.reshape((2,3))\n",
        "print(my_reshaped_array)"
      ],
      "metadata": {
        "colab": {
          "base_uri": "https://localhost:8080/"
        },
        "id": "gMbjs5zAnOpb",
        "outputId": "e3c64d83-3df5-455d-cb91-a829a14238bc"
      },
      "execution_count": 23,
      "outputs": [
        {
          "output_type": "stream",
          "name": "stdout",
          "text": [
            "[[9 1]\n",
            " [9 2]\n",
            " [6 1]]\n",
            "(3, 2)\n",
            "[[9 1 9]\n",
            " [2 6 1]]\n"
          ]
        }
      ]
    },
    {
      "cell_type": "code",
      "source": [],
      "metadata": {
        "id": "D67NDAcbpHfq"
      },
      "execution_count": null,
      "outputs": []
    }
  ]
}
