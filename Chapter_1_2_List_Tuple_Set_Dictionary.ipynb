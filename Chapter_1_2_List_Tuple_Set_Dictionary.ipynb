{
  "nbformat": 4,
  "nbformat_minor": 0,
  "metadata": {
    "colab": {
      "provenance": [],
      "authorship_tag": "ABX9TyMgE18HG8k31mobXWH4/61W",
      "include_colab_link": true
    },
    "kernelspec": {
      "name": "python3",
      "display_name": "Python 3"
    },
    "language_info": {
      "name": "python"
    }
  },
  "cells": [
    {
      "cell_type": "markdown",
      "metadata": {
        "id": "view-in-github",
        "colab_type": "text"
      },
      "source": [
        "<a href=\"https://colab.research.google.com/github/satyam0402/python-ml/blob/main/Chapter_1_2_List_Tuple_Set_Dictionary.ipynb\" target=\"_parent\"><img src=\"https://colab.research.google.com/assets/colab-badge.svg\" alt=\"Open In Colab\"/></a>"
      ]
    },
    {
      "cell_type": "markdown",
      "source": [
        "  Type of Objects in Python\n",
        "  1. Immutable Objects: Objects that can not be changed once declared. E.g : int, float, boolean, string, etc.\n",
        "\n",
        "  2. Mutable: Can be Updated/Rewritten or changed. E.g.: List, Set, Dictinoary"
      ],
      "metadata": {
        "id": "M_hb7xzAD3rr"
      }
    },
    {
      "cell_type": "code",
      "source": [
        "# 1 Immutable data type Tuple\n",
        "# Tuples are enclosed in \"()\" brackets. Tuple can not be updated/changed. Tuple can hold elements of different data types.\n",
        "my_tuple1 = (1,2,3.3,True,\"ML\")\n",
        "print(my_tuple1)\n",
        "type(my_tuple1)\n",
        "\n",
        "#Conversion of lists into Tuple\n",
        "my_list = [1,2,3]\n",
        "print(my_list)\n",
        "my_tuple2 = tuple(my_list)\n",
        "print(my_tuple2)\n",
        "type(my_tuple2)"
      ],
      "metadata": {
        "colab": {
          "base_uri": "https://localhost:8080/"
        },
        "id": "_cr3d2beKBsJ",
        "outputId": "488af71c-a2a8-40f1-fb8a-098e1b225931"
      },
      "execution_count": null,
      "outputs": [
        {
          "output_type": "stream",
          "name": "stdout",
          "text": [
            "(1, 2, 3.3, True, 'ML')\n",
            "[1, 2, 3]\n",
            "(1, 2, 3)\n"
          ]
        },
        {
          "output_type": "execute_result",
          "data": {
            "text/plain": [
              "list"
            ]
          },
          "metadata": {},
          "execution_count": 15
        }
      ]
    },
    {
      "cell_type": "code",
      "source": [
        "# 2.1 Lists: List elements should be enclosed in square brackets [].\n",
        "\n",
        "my_list1 = [1,2,3,4,5]\n",
        "print(my_list)\n",
        "type(my_list)\n",
        "\n",
        "# List can hold elements of different data types in one list.\n",
        "\n",
        "my_list2 = [1,2,3.3,True,\"ML\"]\n",
        "print(my_list2)\n",
        "\n",
        "# List elements can be updated\n",
        "#append\n",
        "my_list1.append(6)\n",
        "my_list2.append(5)\n",
        "print(my_list1)\n",
        "print(my_list2)\n",
        "\n",
        "# Print elements of list using index\n",
        "print(my_list2[4])\n",
        "\n",
        "# List can have duplicate values\n",
        "my_list3 = [1,2,3,5,6,1,2,3,5,6]\n",
        "print(my_list3)\n",
        "\n",
        "# We can get the length of the list using \"len.\" It gives the count of the total number of elements in the list.\n",
        "print(len(my_list3))\n",
        "\n",
        "# We can delete the elements of a list using \"del\".\n",
        "print(my_list2)\n",
        "del my_list2[4]\n",
        "print(my_list2)\n",
        "\n",
        "# Joining or concatenating the two lists\n",
        "my_list4 = my_list1 + my_list2 + my_list3\n",
        "print(my_list4)\n",
        "\n",
        "# 2.2 Sets: Sets are enclosed in curly brackets. Sets do not allow duplicate elements; they delete any duplicate elements. Sets do not support indexing.\n",
        "\n",
        "my_set = {1,2,3,4,5,6}\n",
        "print(my_set)\n",
        "type(my_set)\n",
        "\n",
        "#2.3 Dictionary: Dictonary elements are enclosed in curly brackets and have a KEY-VALUE pair. Dictionary do not allow duplicate values.\n",
        "my_dictionary = {'name':'John', 'age': 30, 'country' : 'USA'}\n",
        "print(my_dictionary)\n",
        "type(my_dictionary)\n",
        "\n",
        "print(my_dictionary['name'])\n",
        "print(my_dictionary['age'])\n",
        "print(my_dictionary['country'])"
      ],
      "metadata": {
        "colab": {
          "base_uri": "https://localhost:8080/"
        },
        "id": "6whni4W_FPke",
        "outputId": "27774805-3b01-4903-9107-549e571a8b3f"
      },
      "execution_count": null,
      "outputs": [
        {
          "output_type": "stream",
          "name": "stdout",
          "text": [
            "[1, 2, 3]\n",
            "[1, 2, 3.3, True, 'ML']\n",
            "[1, 2, 3, 4, 5, 6]\n",
            "[1, 2, 3.3, True, 'ML', 5]\n",
            "ML\n",
            "[1, 2, 3, 5, 6, 1, 2, 3, 5, 6]\n",
            "10\n",
            "[1, 2, 3.3, True, 'ML', 5]\n",
            "[1, 2, 3.3, True, 5]\n",
            "[1, 2, 3, 4, 5, 6, 1, 2, 3.3, True, 5, 1, 2, 3, 5, 6, 1, 2, 3, 5, 6]\n",
            "{1, 2, 3, 4, 5, 6}\n",
            "{'name': 'John', 'age': 30, 'country': 'USA'}\n",
            "John\n",
            "30\n",
            "USA\n"
          ]
        }
      ]
    },
    {
      "cell_type": "markdown",
      "source": [],
      "metadata": {
        "id": "F1Df9VE1MSsy"
      }
    }
  ]
}