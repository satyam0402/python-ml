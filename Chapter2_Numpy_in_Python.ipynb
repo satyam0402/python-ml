{
  "nbformat": 4,
  "nbformat_minor": 0,
  "metadata": {
    "colab": {
      "provenance": [],
      "authorship_tag": "ABX9TyOafkyrjCwSNMLAKTKRMGiS",
      "include_colab_link": true
    },
    "kernelspec": {
      "name": "python3",
      "display_name": "Python 3"
    },
    "language_info": {
      "name": "python"
    }
  },
  "cells": [
    {
      "cell_type": "markdown",
      "metadata": {
        "id": "view-in-github",
        "colab_type": "text"
      },
      "source": [
        "<a href=\"https://colab.research.google.com/github/satyam0402/python-ml/blob/main/Chapter2_Numpy_in_Python.ipynb\" target=\"_parent\"><img src=\"https://colab.research.google.com/assets/colab-badge.svg\" alt=\"Open In Colab\"/></a>"
      ]
    },
    {
      "cell_type": "markdown",
      "source": [
        "NumPy - Numerical Python\n",
        "\n",
        "Advantages of NumPy\n",
        "1. Allows several mathematical operations\n",
        "2. Faster Operations"
      ],
      "metadata": {
        "id": "ubRp_yRs0-6g"
      }
    },
    {
      "cell_type": "code",
      "source": [
        "# Importing NumPy\n",
        "import numpy as np"
      ],
      "metadata": {
        "id": "eFyL2bZm1Qhl"
      },
      "execution_count": 2,
      "outputs": []
    },
    {
      "cell_type": "markdown",
      "source": [
        "Example 1: List vs NumPy - TIME TAKEN COMPARISON"
      ],
      "metadata": {
        "id": "20d4wcSg1eXn"
      }
    },
    {
      "cell_type": "code",
      "source": [
        "#Using process_time function from time library\n",
        "from time import process_time"
      ],
      "metadata": {
        "id": "SOnNLXk61bXC"
      },
      "execution_count": 2,
      "outputs": []
    },
    {
      "cell_type": "markdown",
      "source": [
        "Time Taken by List"
      ],
      "metadata": {
        "id": "GYAP6DbZ2UAs"
      }
    },
    {
      "cell_type": "code",
      "source": [
        "#Creating a list using a for loop with 10000 items\n",
        "my_list = (i for i in range(1000000))\n",
        "# initializing start time with process time\n",
        "start_time = process_time()\n",
        "# Adding some values to each item from the list\n",
        "my_list = (i+5 for i in my_list)\n",
        "end_time = process_time() # Call the process_time() function to get the current time\n",
        "time_taken = end_time - start_time\n",
        "print(\"Time taken by list = \", time_taken)"
      ],
      "metadata": {
        "colab": {
          "base_uri": "https://localhost:8080/"
        },
        "id": "NDnObEcW2Wq6",
        "outputId": "417142fa-9ded-4d80-accb-851da202d1ab"
      },
      "execution_count": 13,
      "outputs": [
        {
          "output_type": "stream",
          "name": "stdout",
          "text": [
            "Time taken by list =  0.00012888600000060535\n"
          ]
        }
      ]
    },
    {
      "cell_type": "markdown",
      "source": [
        "Time Taken by NumPy Array"
      ],
      "metadata": {
        "id": "9_CGsAvh5diJ"
      }
    },
    {
      "cell_type": "code",
      "source": [
        "my_array = np.array([i for i in range(1000000)])\n",
        "start_time = process_time()\n",
        "my_array = (i+5 for i in my_array)\n",
        "end_time = process_time()\n",
        "time_taken = end_time - start_time\n",
        "print(\"Time taken by array = \", time_taken)"
      ],
      "metadata": {
        "colab": {
          "base_uri": "https://localhost:8080/"
        },
        "id": "rSPl-FRw3EHK",
        "outputId": "b832b806-0abb-4aa2-903f-4a7a35d31621"
      },
      "execution_count": 14,
      "outputs": [
        {
          "output_type": "stream",
          "name": "stdout",
          "text": [
            "Time taken by array =  0.00012377200000024402\n"
          ]
        }
      ]
    },
    {
      "cell_type": "markdown",
      "source": [
        "Difference between List and np.array"
      ],
      "metadata": {
        "id": "ylJlVKvy7XM7"
      }
    },
    {
      "cell_type": "code",
      "source": [
        "#List\n",
        "my_list = [1,2,3,4,5]\n",
        "print(my_list)\n",
        "type(my_list)\n",
        "\n",
        "#Array\n",
        "my_array = np.array([1,2,3,4,5])\n",
        "print(my_array)\n",
        "type(my_array)\n",
        "\n",
        "# List elements are separated by \",\" whereas array elements are not."
      ],
      "metadata": {
        "colab": {
          "base_uri": "https://localhost:8080/"
        },
        "id": "j3CFFoHR54sn",
        "outputId": "30c8c9f5-f91a-4a98-d3aa-d5475e05ce65"
      },
      "execution_count": 15,
      "outputs": [
        {
          "output_type": "stream",
          "name": "stdout",
          "text": [
            "[1, 2, 3, 4, 5]\n",
            "[1 2 3 4 5]\n"
          ]
        },
        {
          "output_type": "execute_result",
          "data": {
            "text/plain": [
              "numpy.ndarray"
            ]
          },
          "metadata": {},
          "execution_count": 15
        }
      ]
    },
    {
      "cell_type": "markdown",
      "source": [
        "Different Dimensions of arrays"
      ],
      "metadata": {
        "id": "mHHdRe2W8TBc"
      }
    },
    {
      "cell_type": "code",
      "source": [
        "# 1D\n",
        "my_array = np.array([1,2,3,4,5])\n",
        "print(my_array)\n",
        "print(my_array.shape) #(rows,column)\n",
        "\n",
        "#2D\n",
        "my_array = np.array([(1,2,3,4,5),(6,7,8,9,10)])\n",
        "print(my_array)\n",
        "print(my_array.shape) #(rows,column)\n",
        "\n",
        "#Float in arrays\n",
        "my_array = np.array([(1.1,2,3.5,4,5),(6,7.3,8,9,10)],dtype=float)\n",
        "print(my_array)\n",
        "print(my_array.shape) #(rows,column)"
      ],
      "metadata": {
        "colab": {
          "base_uri": "https://localhost:8080/"
        },
        "id": "xaUocnLq8CMm",
        "outputId": "7e8bb122-04f9-429c-dd5a-5efd2ad3e181"
      },
      "execution_count": 18,
      "outputs": [
        {
          "output_type": "stream",
          "name": "stdout",
          "text": [
            "[1 2 3 4 5]\n",
            "(5,)\n",
            "[[ 1  2  3  4  5]\n",
            " [ 6  7  8  9 10]]\n",
            "(2, 5)\n",
            "[[ 1.1  2.   3.5  4.   5. ]\n",
            " [ 6.   7.3  8.   9.  10. ]]\n",
            "(2, 5)\n"
          ]
        }
      ]
    },
    {
      "cell_type": "markdown",
      "source": [
        "Initial Placeholder for numpy array where each element in the array is initialized to zero"
      ],
      "metadata": {
        "id": "4ashF6zr9_w9"
      }
    },
    {
      "cell_type": "code",
      "source": [
        "#Zeros\n",
        "my_initial_array_Zeros = np.zeros((5,5)) #np.zeros function is used to create array with all zeros\n",
        "print(my_initial_array_Zeros)\n",
        "#Ones\n",
        "my_initial_array_Ones = np.ones((5,5)) #np.ones function is used to create array with all ones\n",
        "print(my_initial_array_Ones)\n",
        "\n",
        "#Arrays of particular value\n",
        "my_valued_array = np.full((5,5),5) #np.full function is used to create array with all particular value\n",
        "print(my_valued_array)\n",
        "\n",
        "# Identity matrix\n",
        "my_identity_matrix = np.eye(5) #np.eye function is used to create identity matrix\n",
        "print(my_identity_matrix)\n",
        "\n",
        "#Array with random values\n",
        "my_random_array = np.random.random((5,5)) #np.random.random function is used to create array with random values\n",
        "print(my_random_array)\n",
        "\n",
        "#Array with random values within specific range\n",
        "my_random_array = np.random.randint(10,100,(5,5)) #np.random.randint function is used to create array with random values within specific range\n",
        "print(my_random_array)\n",
        "\n",
        "#Array with evenly space  ---> Number of values required\n",
        "my_evenly_spaced_array = np.linspace(10,20,6) #np.linespace function is used to create array with evenly space values\n",
        "print(my_evenly_spaced_array)\n",
        "\n",
        "#Array with evenly space steps ---> Steps\n",
        "my_step_array = np.arange(10,100,5) #np.arange function is used to create array with evenly space steps\n",
        "print(my_step_array)\n",
        "\n",
        "\n"
      ],
      "metadata": {
        "colab": {
          "base_uri": "https://localhost:8080/"
        },
        "id": "TJQcxgmb9CNw",
        "outputId": "ddac8eff-2bf6-4aca-ee05-98af2f6d1d34"
      },
      "execution_count": 15,
      "outputs": [
        {
          "output_type": "stream",
          "name": "stdout",
          "text": [
            "[[0. 0. 0. 0. 0.]\n",
            " [0. 0. 0. 0. 0.]\n",
            " [0. 0. 0. 0. 0.]\n",
            " [0. 0. 0. 0. 0.]\n",
            " [0. 0. 0. 0. 0.]]\n",
            "[[1. 1. 1. 1. 1.]\n",
            " [1. 1. 1. 1. 1.]\n",
            " [1. 1. 1. 1. 1.]\n",
            " [1. 1. 1. 1. 1.]\n",
            " [1. 1. 1. 1. 1.]]\n",
            "[[5 5 5 5 5]\n",
            " [5 5 5 5 5]\n",
            " [5 5 5 5 5]\n",
            " [5 5 5 5 5]\n",
            " [5 5 5 5 5]]\n",
            "[[1. 0. 0. 0. 0.]\n",
            " [0. 1. 0. 0. 0.]\n",
            " [0. 0. 1. 0. 0.]\n",
            " [0. 0. 0. 1. 0.]\n",
            " [0. 0. 0. 0. 1.]]\n",
            "[[0.57107076 0.40204775 0.43447169 0.6179334  0.14628363]\n",
            " [0.12820776 0.94185041 0.77623773 0.01513873 0.78907949]\n",
            " [0.32687901 0.28072876 0.31434226 0.65040994 0.91017884]\n",
            " [0.53958881 0.33150477 0.12452479 0.4396856  0.55038673]\n",
            " [0.57936526 0.76434798 0.33513268 0.01409127 0.70769588]]\n",
            "[[90 34 58 56 34]\n",
            " [46 56 82 61 81]\n",
            " [58 91 49 81 63]\n",
            " [52 35 72 73 69]\n",
            " [40 49 30 73 46]]\n",
            "[10. 12. 14. 16. 18. 20.]\n",
            "[10 15 20 25 30 35 40 45 50 55 60 65 70 75 80 85 90 95]\n"
          ]
        }
      ]
    },
    {
      "cell_type": "markdown",
      "source": [],
      "metadata": {
        "id": "IbHY81Tb-bUv"
      }
    },
    {
      "cell_type": "code",
      "source": [],
      "metadata": {
        "id": "rYRyRQmk-Y-A"
      },
      "execution_count": null,
      "outputs": []
    }
  ]
}