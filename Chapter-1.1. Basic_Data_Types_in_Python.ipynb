{
  "nbformat": 4,
  "nbformat_minor": 0,
  "metadata": {
    "colab": {
      "provenance": [],
      "authorship_tag": "ABX9TyMoCKuA00w0JBuS/5Npf7A4",
      "include_colab_link": true
    },
    "kernelspec": {
      "name": "python3",
      "display_name": "Python 3"
    },
    "language_info": {
      "name": "python"
    }
  },
  "cells": [
    {
      "cell_type": "markdown",
      "metadata": {
        "id": "view-in-github",
        "colab_type": "text"
      },
      "source": [
        "<a href=\"https://colab.research.google.com/github/satyam0402/python-ml/blob/main/Chapter-1.1.%20Basic_Data_Types_in_Python.ipynb\" target=\"_parent\"><img src=\"https://colab.research.google.com/assets/colab-badge.svg\" alt=\"Open In Colab\"/></a>"
      ]
    },
    {
      "cell_type": "code",
      "execution_count": null,
      "metadata": {
        "id": "TOU-TuxQmd9p"
      },
      "outputs": [],
      "source": []
    },
    {
      "cell_type": "markdown",
      "source": [
        "1. Basic Data Types in Python\n",
        "  1. Integer\n",
        "  2. String\n",
        "  3. Float\n",
        "  4. Boolean\n",
        "  5. Complex\n"
      ],
      "metadata": {
        "id": "mD4Vj6KMnMG_"
      }
    },
    {
      "cell_type": "code",
      "source": [
        "# Intergers\n",
        "a = 8\n",
        "print(a)\n",
        "type(a)"
      ],
      "metadata": {
        "colab": {
          "base_uri": "https://localhost:8080/"
        },
        "id": "ZfCODUakniqA",
        "outputId": "4abcec67-e8d6-4e9e-8380-7228b47786aa"
      },
      "execution_count": null,
      "outputs": [
        {
          "output_type": "stream",
          "name": "stdout",
          "text": [
            "8\n"
          ]
        },
        {
          "output_type": "execute_result",
          "data": {
            "text/plain": [
              "int"
            ]
          },
          "metadata": {},
          "execution_count": 1
        }
      ]
    },
    {
      "cell_type": "code",
      "source": [
        "# Float\n",
        "b = 1.0\n",
        "print(b)\n",
        "type(b)"
      ],
      "metadata": {
        "colab": {
          "base_uri": "https://localhost:8080/"
        },
        "id": "PI12r6w-oLUD",
        "outputId": "6fffa83f-5d8f-435c-ab31-0d7134a3800e"
      },
      "execution_count": null,
      "outputs": [
        {
          "output_type": "stream",
          "name": "stdout",
          "text": [
            "1.0\n"
          ]
        },
        {
          "output_type": "execute_result",
          "data": {
            "text/plain": [
              "float"
            ]
          },
          "metadata": {},
          "execution_count": 2
        }
      ]
    },
    {
      "cell_type": "code",
      "source": [
        "# Complex Numbers\n",
        "c = 1 + 2j\n",
        "print(c)\n",
        "type(c)\n"
      ],
      "metadata": {
        "colab": {
          "base_uri": "https://localhost:8080/"
        },
        "id": "Mnqc4k7noTw3",
        "outputId": "99d3483f-a719-423c-ec61-7fd32e5e14e9"
      },
      "execution_count": null,
      "outputs": [
        {
          "output_type": "stream",
          "name": "stdout",
          "text": [
            "(1+2j)\n"
          ]
        },
        {
          "output_type": "execute_result",
          "data": {
            "text/plain": [
              "complex"
            ]
          },
          "metadata": {},
          "execution_count": 3
        }
      ]
    },
    {
      "cell_type": "code",
      "source": [
        "# Boolean\n",
        "a = True\n",
        "b = False\n",
        "print(a)\n",
        "print(b)\n",
        "type(a)\n",
        "type(b)"
      ],
      "metadata": {
        "colab": {
          "base_uri": "https://localhost:8080/"
        },
        "id": "_-pFKWTDqp9A",
        "outputId": "c6573f62-3073-43e5-ffef-124ff085a553"
      },
      "execution_count": null,
      "outputs": [
        {
          "output_type": "stream",
          "name": "stdout",
          "text": [
            "True\n",
            "False\n"
          ]
        },
        {
          "output_type": "execute_result",
          "data": {
            "text/plain": [
              "bool"
            ]
          },
          "metadata": {},
          "execution_count": 9
        }
      ]
    },
    {
      "cell_type": "code",
      "source": [
        "a = 7 < 3\n",
        "print (a)"
      ],
      "metadata": {
        "colab": {
          "base_uri": "https://localhost:8080/"
        },
        "id": "6jKBz8Hyq4QY",
        "outputId": "b7271a7e-abc2-4c06-af64-e5797a4472d3"
      },
      "execution_count": null,
      "outputs": [
        {
          "output_type": "stream",
          "name": "stdout",
          "text": [
            "False\n"
          ]
        }
      ]
    },
    {
      "cell_type": "code",
      "source": [
        "# String\n",
        "my_string = \"Python-Machine-Learning\"\n",
        "print(my_string)\n",
        "type(my_string)\n",
        "\n",
        "#------Multiple-Prints------\n",
        "\n",
        "print(my_string*5)\n",
        "\n",
        "#---Slice-String-------\n",
        "\n",
        "print(my_string[1:22]) #Value from index 1 to 22-1 will be printed(sliced)\n",
        "\n",
        "#---Steps-------\n",
        "\n",
        "print(my_string[0:22:2])\n",
        "\n",
        "#---String-Concatination-------\n",
        "\n",
        "my_string2 = \"We got this!!!\"\n",
        "print(my_string + \" \" + my_string2)\n"
      ],
      "metadata": {
        "colab": {
          "base_uri": "https://localhost:8080/"
        },
        "id": "6yL98iCBrO3m",
        "outputId": "b78065a2-de97-41c7-854b-aabc8f2ef126"
      },
      "execution_count": null,
      "outputs": [
        {
          "output_type": "stream",
          "name": "stdout",
          "text": [
            "Python-Machine-Learning\n",
            "Python-Machine-LearningPython-Machine-LearningPython-Machine-LearningPython-Machine-LearningPython-Machine-Learning\n",
            "ython-Machine-Learnin\n",
            "Pto-ahn-eri\n",
            "Python-Machine-Learning We got this!!!\n"
          ]
        }
      ]
    },
    {
      "cell_type": "markdown",
      "source": [
        "2. Conversion from one Data Type to Another"
      ],
      "metadata": {
        "id": "T6f4lEotpO3N"
      }
    },
    {
      "cell_type": "code",
      "source": [
        "# Int to float\n",
        "x = 1\n",
        "print(x)\n",
        "type(x)\n",
        "\n",
        "y = float(x)\n",
        "print(y)\n",
        "type(y)"
      ],
      "metadata": {
        "colab": {
          "base_uri": "https://localhost:8080/"
        },
        "id": "nZVOyFX_pFfa",
        "outputId": "b95c4da1-d80e-44fa-f50f-695cb9a12e0f"
      },
      "execution_count": null,
      "outputs": [
        {
          "output_type": "stream",
          "name": "stdout",
          "text": [
            "1\n",
            "1.0\n"
          ]
        },
        {
          "output_type": "execute_result",
          "data": {
            "text/plain": [
              "float"
            ]
          },
          "metadata": {},
          "execution_count": 6
        }
      ]
    },
    {
      "cell_type": "code",
      "source": [
        "# Float to int\n",
        "x = 1.0\n",
        "print(x)\n",
        "type(x)\n",
        "\n",
        "y = int(x)\n",
        "print(y)\n",
        "type(y)"
      ],
      "metadata": {
        "colab": {
          "base_uri": "https://localhost:8080/"
        },
        "id": "W3TiEsZwp0uz",
        "outputId": "70d31641-6c83-4353-8579-f0ed52807e9a"
      },
      "execution_count": null,
      "outputs": [
        {
          "output_type": "stream",
          "name": "stdout",
          "text": [
            "1.0\n",
            "1\n"
          ]
        },
        {
          "output_type": "execute_result",
          "data": {
            "text/plain": [
              "int"
            ]
          },
          "metadata": {},
          "execution_count": 7
        }
      ]
    },
    {
      "cell_type": "code",
      "source": [],
      "metadata": {
        "id": "w6JKwNGsqMlo"
      },
      "execution_count": null,
      "outputs": []
    }
  ]
}